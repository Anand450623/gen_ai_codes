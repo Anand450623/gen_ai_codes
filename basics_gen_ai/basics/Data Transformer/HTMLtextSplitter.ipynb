{
 "cells": [
  {
   "cell_type": "code",
   "execution_count": null,
   "metadata": {},
   "outputs": [],
   "source": [
    "from langchain_text_splitters import HTMLHeaderTextSplitter\n",
    "\n",
    "html_string = \"\"\"\n",
    "```html\n",
    "<!DOCTYPE html>\n",
    "<html lang=\"en\">\n",
    "<head>\n",
    "    <meta charset=\"UTF-8\">\n",
    "    <meta name=\"viewport\" content=\"width=device-width, initial-scale=1.0\">\n",
    "    <title>Sample Article</title>\n",
    "    <style>\n",
    "        body {\n",
    "            font-family: Arial, sans-serif;\n",
    "        }\n",
    "\n",
    "        .header {\n",
    "            background-color: #f2f2f2;\n",
    "            padding: 10px;\n",
    "            text-align: center;\n",
    "        }\n",
    "\n",
    "        .article-content {\n",
    "            margin: 20px auto;\n",
    "            max-width: 800px;\n",
    "        }\n",
    "\n",
    "        .article-image {\n",
    "            width: 100%;\n",
    "            height: 200px;\n",
    "            object-fit: cover;\n",
    "        }\n",
    "    </style>\n",
    "</head>\n",
    "<body>\n",
    "    <div class=\"header\">\n",
    "        <h1>Sample Article</h1>\n",
    "        <p>This is a sample article with multiple tags and styles.</p>\n",
    "    </div>\n",
    "\n",
    "    <div class=\"article-content\">\n",
    "        <p>Lorem ipsum dolor sit amet, consectetur adipiscing elit. Sed sit amet nulla auctor,\n",
    "vestibulum magna sed, convallis ex.</p>\n",
    "\n",
    "        <img class=\"article-image\" src=\"image.jpg\" alt=\"Sample Image\">\n",
    "\n",
    "        <ul>\n",
    "            <li><strong>Key Points:</strong></li>\n",
    "            <li>This is a sample article</li>\n",
    "            <li>With multiple tags and styles</li>\n",
    "        </ul>\n",
    "\n",
    "        <p>This article includes various HTML elements, including headings, paragraphs, images,\n",
    "lists, and more.</p>\n",
    "    </div>\n",
    "\n",
    "    <footer>\n",
    "        <p>&copy; 2023 Sample Article</p>\n",
    "    </footer>\n",
    "</body>\n",
    "</html>\n",
    "\"\"\""
   ]
  },
  {
   "cell_type": "code",
   "execution_count": null,
   "metadata": {},
   "outputs": [],
   "source": [
    "headers_to_split_on=[(\"h1\", \"Header1\"),\n",
    "                     (\"h2\", \"Header2\"),\n",
    "                     (\"h3\", \"Header3\")\n",
    "                     ]\n",
    "\n",
    "html_splitter = HTMLHeaderTextSplitter(headers_to_split_on=headers_to_split_on)\n",
    "html_header_splits = html_splitter.split_text(html_string)"
   ]
  },
  {
   "cell_type": "code",
   "execution_count": null,
   "metadata": {},
   "outputs": [],
   "source": [
    "html_header_splits"
   ]
  },
  {
   "cell_type": "code",
   "execution_count": null,
   "metadata": {},
   "outputs": [],
   "source": [
    "url = \"https://plato.stanford.edu/entries/goedel/\"\n",
    "\n",
    "headers_to_split_on=[(\"h1\", \"Header1\"),\n",
    "                     (\"h2\", \"Header2\"),\n",
    "                     (\"h3\", \"Header3\"),\n",
    "                     (\"h4\", \"Header4\")\n",
    "                     ]\n",
    "\n",
    "html_splitter = HTMLHeaderTextSplitter(headers_to_split_on=headers_to_split_on)\n",
    "html_header_splits=html_splitter.split_text_from_url(url=url)\n",
    "html_header_splits"
   ]
  },
  {
   "cell_type": "code",
   "execution_count": null,
   "metadata": {},
   "outputs": [],
   "source": []
  }
 ],
 "metadata": {
  "kernelspec": {
   "display_name": "Python 3",
   "language": "python",
   "name": "python3"
  },
  "language_info": {
   "codemirror_mode": {
    "name": "ipython",
    "version": 3
   },
   "file_extension": ".py",
   "mimetype": "text/x-python",
   "name": "python",
   "nbconvert_exporter": "python",
   "pygments_lexer": "ipython3",
   "version": "3.10.0"
  }
 },
 "nbformat": 4,
 "nbformat_minor": 2
}
