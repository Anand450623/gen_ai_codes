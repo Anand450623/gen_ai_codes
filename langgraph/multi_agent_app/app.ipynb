{
 "cells": [
  {
   "cell_type": "code",
   "execution_count": null,
   "id": "e9f020e3",
   "metadata": {},
   "outputs": [],
   "source": [
    "import os\n",
    "import cassio\n",
    "from dotenv import load_dotenv\n",
    "load_dotenv()"
   ]
  },
  {
   "cell_type": "code",
   "execution_count": null,
   "id": "d997f736",
   "metadata": {},
   "outputs": [],
   "source": [
    "cassio.init(token=os.getenv(\"ASTRA_DB_APPLICATION_TOKEN\"), database_id=os.getenv(\"ASTRA_DB_ID\"))"
   ]
  },
  {
   "cell_type": "code",
   "execution_count": null,
   "id": "bd3d5550",
   "metadata": {},
   "outputs": [],
   "source": [
    "from langchain.text_splitter import RecursiveCharacterTextSplitter\n",
    "from langchain_community.document_loaders import WebBaseLoader"
   ]
  },
  {
   "cell_type": "code",
   "execution_count": null,
   "id": "0a3d031f",
   "metadata": {},
   "outputs": [],
   "source": [
    "urls = [\n",
    "    \"https://lilianweng.github.io/posts/2023-06-23-agent/\",\n",
    "    \"https://lilianweng.github.io/posts/2023-03-15-prompt-engineering/\",\n",
    "    \"https://lilianweng.github.io/posts/2023-10-25-adv-attack-llm\"\n",
    "]"
   ]
  },
  {
   "cell_type": "code",
   "execution_count": null,
   "id": "6422dd9f",
   "metadata": {},
   "outputs": [],
   "source": [
    "docs = [WebBaseLoader(url).load() for url in urls]\n",
    "doc_list = [item for sublist in docs for item in sublist]\n",
    "print(doc_list)\n",
    "text_splitter = RecursiveCharacterTextSplitter.from_tiktoken_encoder(chunk_size=500, chunk_overlap=0)\n",
    "docs_split = text_splitter.split_documents(doc_list)"
   ]
  },
  {
   "cell_type": "code",
   "execution_count": null,
   "id": "da157771",
   "metadata": {},
   "outputs": [],
   "source": [
    "docs_split"
   ]
  },
  {
   "cell_type": "code",
   "execution_count": null,
   "id": "a23fb693",
   "metadata": {},
   "outputs": [],
   "source": [
    "from langchain_huggingface import HuggingFaceEmbeddings\n",
    "embeddings = HuggingFaceEmbeddings(model_name=\"all-MiniLM-L6-v2\")"
   ]
  },
  {
   "cell_type": "code",
   "execution_count": null,
   "id": "9e6bfa60",
   "metadata": {},
   "outputs": [],
   "source": [
    "from langchain.vectorstores.cassandra import Cassandra\n",
    "astra_vector_store = Cassandra(embedding=embeddings,\n",
    "                               table_name=\"qa_mini_demo\",\n",
    "                               session=None,\n",
    "                               keyspace=None)"
   ]
  },
  {
   "cell_type": "code",
   "execution_count": null,
   "id": "134ab9b4",
   "metadata": {},
   "outputs": [],
   "source": [
    "from langchain.indexes.vectorstore import VectorStoreIndexWrapper\n",
    "astra_vector_store.add_documents(docs_split)\n",
    "print(\"Inserted %i headlines.\" %len(docs_split))\n",
    "astra_vector_index = VectorStoreIndexWrapper(vectorstore=astra_vector_store)"
   ]
  },
  {
   "cell_type": "code",
   "execution_count": null,
   "id": "71acb1ed",
   "metadata": {},
   "outputs": [],
   "source": [
    "retriver = astra_vector_store.as_retriever()\n",
    "retriver.invoke(\"What is agent\")"
   ]
  },
  {
   "cell_type": "code",
   "execution_count": null,
   "id": "07a42fd0",
   "metadata": {},
   "outputs": [],
   "source": [
    "from typing import Literal\n",
    "from langchain_core.prompts import ChatPromptTemplate\n",
    "from langchain_core.pydantic_v1 import BaseModel, Field"
   ]
  },
  {
   "cell_type": "code",
   "execution_count": null,
   "id": "2fe82b2c",
   "metadata": {},
   "outputs": [],
   "source": [
    "class RouteQuery(BaseModel):\n",
    "    \"\"\"Route a user query to the most relevant datasource.\"\"\"\n",
    "    datasource: Literal[\"vectorstore\", \"wiki_search\"] = Field(\n",
    "        ...,\n",
    "        description=\"Given a user question chose to route it to wikipedia or vectorstore.\",\n",
    "    )"
   ]
  },
  {
   "cell_type": "code",
   "execution_count": null,
   "id": "72150c66",
   "metadata": {},
   "outputs": [],
   "source": [
    "from langchain_groq import ChatGroq\n",
    "import os\n",
    "\n",
    "groq_api_key = os.getenv(\"GROQ_API_KEY\")\n",
    "llm = ChatGroq(groq_api_key=groq_api_key, model_name=\"Llama-3.3-70b-Versatile\")\n",
    "llm"
   ]
  },
  {
   "cell_type": "code",
   "execution_count": null,
   "id": "ebd3d07a",
   "metadata": {},
   "outputs": [],
   "source": [
    "structured_llm_router = llm.with_structured_output(RouteQuery)"
   ]
  },
  {
   "cell_type": "code",
   "execution_count": null,
   "id": "a0f7680c",
   "metadata": {},
   "outputs": [],
   "source": [
    "system = \"\"\"You are an expert at routing a user question to a verctorstore or wikipedia.\n",
    "The vectorstore contains documents related to agents, prompt engineering, and adversial attacks.\n",
    "Use the vectorstore for questions on these topics. Otherwise, use wiki-search.\"\"\"\n",
    "\n",
    "route_prompt = ChatPromptTemplate.from_messages(\n",
    "    [\n",
    "        (\"system\", system),\n",
    "        (\"human\", \"{question}\"),\n",
    "    ]\n",
    ")\n",
    "\n",
    "question_router = route_prompt|structured_llm_router"
   ]
  },
  {
   "cell_type": "code",
   "execution_count": null,
   "id": "da830044",
   "metadata": {},
   "outputs": [],
   "source": [
    "print(question_router.invoke(\n",
    "    {\n",
    "        \"question\": \"What is agent ?\"\n",
    "    }\n",
    "))"
   ]
  },
  {
   "cell_type": "code",
   "execution_count": null,
   "id": "bf46f937",
   "metadata": {},
   "outputs": [],
   "source": [
    "print(question_router.invoke(\n",
    "    {\n",
    "        \"question\": \"Who is sharukh khan ?\"\n",
    "    }\n",
    "))"
   ]
  },
  {
   "cell_type": "code",
   "execution_count": null,
   "id": "44b9752b",
   "metadata": {},
   "outputs": [],
   "source": [
    "from langchain_community.utilities import WikipediaAPIWrapper\n",
    "from langchain_community.tools import WikipediaQueryRun\n",
    "\n",
    "api_wrapper = WikipediaAPIWrapper(top_k_results=1, doc_content_chars_max=200)\n",
    "wiki = WikipediaQueryRun(api_wrapper=api_wrapper)"
   ]
  },
  {
   "cell_type": "code",
   "execution_count": null,
   "id": "15737802",
   "metadata": {},
   "outputs": [],
   "source": [
    "from typing import List\n",
    "from typing_extensions import TypedDict\n",
    "\n",
    "\n",
    "class GraphState(TypedDict):\n",
    "\n",
    "    \"\"\"\n",
    "    Represents the state of our graph.\n",
    "    Attributes:\n",
    "        question: question\n",
    "        generation: LLM generation\n",
    "        documents: list of documents\n",
    "    \"\"\"\n",
    "\n",
    "    question:str\n",
    "    generation: str\n",
    "    documents: List[str]"
   ]
  },
  {
   "cell_type": "code",
   "execution_count": null,
   "id": "2041a3b3",
   "metadata": {},
   "outputs": [],
   "source": [
    "from langchain.schema import Document\n",
    "\n",
    "def retrive(state):\n",
    "    \"\"\"\n",
    "        Retireve documents\n",
    "        Args:\n",
    "            state (dict): The current graph state\n",
    "\n",
    "        Returns:\n",
    "            state (dict): New key added to state, documents, that contains retrived documents\n",
    "    \"\"\"\n",
    "\n",
    "    print(\"----Retrieve----\")\n",
    "    question = state[\"question\"]\n",
    "    documents = retriver.invoke(question)\n",
    "    return {\"documents\": documents, \"question\": question}"
   ]
  },
  {
   "cell_type": "code",
   "execution_count": null,
   "id": "f4aff523",
   "metadata": {},
   "outputs": [],
   "source": [
    "def wiki_search(state):\n",
    "    \"\"\"\n",
    "    wiki search based on the re-phrased question.\n",
    "    Args:\n",
    "        state (dict): The current graph state\n",
    "\n",
    "    Returns:\n",
    "        state (dict): Updates documents key with appended web results\n",
    "    \"\"\"\n",
    "\n",
    "    print(\"----wikipedia----\")\n",
    "    \n",
    "    question = state[\"question\"]\n",
    "    print(question)\n",
    "\n",
    "    docs = wiki.invoke({\"query\": question})\n",
    "    wiki_results = docs\n",
    "    wiki_results = Document(page_content=wiki_results)\n",
    "\n",
    "    return {\"documents\": wiki_results, \"question\": question}"
   ]
  },
  {
   "cell_type": "code",
   "execution_count": null,
   "id": "7195d1ab",
   "metadata": {},
   "outputs": [],
   "source": [
    "def route_question(state):\n",
    "    \"\"\"\n",
    "        Route question to wiki search or RAG.\n",
    "        Args:\n",
    "            state (dict): The current graph state\n",
    "        Returns:\n",
    "            str: Next node to call\n",
    "    \"\"\"\n",
    "\n",
    "    print(\"--- ROUTE QUESTION ---\")\n",
    "    question = state[\"question\"]\n",
    "    source = question_router.invoke({\"question\": question})\n",
    "\n",
    "    if source.datasource == \"wiki_search\":\n",
    "        print(\"---Route Question to Wiki Search---\")\n",
    "        return \"wiki_search\"\n",
    "    elif source.datasource == \"vectorstore\":\n",
    "        print(\"---ROUTE Question to RAG---\")\n",
    "        return \"vectorstore\""
   ]
  },
  {
   "cell_type": "code",
   "execution_count": null,
   "id": "79c1cb43",
   "metadata": {},
   "outputs": [],
   "source": [
    "from langgraph.graph import END, StateGraph, START"
   ]
  },
  {
   "cell_type": "code",
   "execution_count": null,
   "id": "377a0a29",
   "metadata": {},
   "outputs": [],
   "source": [
    "workflow = StateGraph(GraphState)\n",
    "workflow.add_node(\"wiki_search\", wiki_search)\n",
    "workflow.add_node(\"retrieve\", retrive)\n",
    "\n",
    "workflow.add_conditional_edges(\n",
    "    START,\n",
    "    route_question,\n",
    "    {\n",
    "        \"wiki_search\": \"wiki_search\",\n",
    "        \"vectorstore\": \"retrieve\"\n",
    "    },\n",
    ")\n",
    "workflow.add_edge(\"retrieve\", END)\n",
    "workflow.add_edge(\"wiki_search\", END)\n",
    "\n",
    "app = workflow.compile()"
   ]
  },
  {
   "cell_type": "code",
   "execution_count": null,
   "id": "8249eeae",
   "metadata": {},
   "outputs": [],
   "source": [
    "from IPython.display import Image, display\n",
    "\n",
    "try:\n",
    "    display(Image(app.get_graph().draw_mermaid_png()))\n",
    "except Exception:\n",
    "    pass"
   ]
  },
  {
   "cell_type": "code",
   "execution_count": null,
   "id": "3f04145f",
   "metadata": {},
   "outputs": [],
   "source": [
    "from pprint import pprint\n",
    "\n",
    "inputs = {\n",
    "    \"question\": \"What is agent ?\"\n",
    "}\n",
    "\n",
    "for output in app.stream(inputs):\n",
    "    for key, value in output.items():\n",
    "        pprint(f\"Node ' {key}' :\")\n",
    "    pprint(\"\\n---\\n\")\n",
    "\n",
    "pprint(value['documents'][0].dict()['metadata']['description'])"
   ]
  },
  {
   "cell_type": "code",
   "execution_count": null,
   "id": "5372aa4c",
   "metadata": {},
   "outputs": [],
   "source": [
    "from pprint import pprint\n",
    "\n",
    "inputs = {\n",
    "    \"question\": \"Avengers\"\n",
    "}\n",
    "\n",
    "for output in app.stream(inputs):\n",
    "    for key, value in output.items():\n",
    "        pprint(f\"Node ' {key}' :\")\n",
    "    pprint(\"\\n---\\n\")\n",
    "\n",
    "pprint(value['documents'])"
   ]
  },
  {
   "cell_type": "code",
   "execution_count": null,
   "id": "5c563720",
   "metadata": {},
   "outputs": [],
   "source": []
  }
 ],
 "metadata": {
  "kernelspec": {
   "display_name": "venv3.11",
   "language": "python",
   "name": "python3"
  },
  "language_info": {
   "codemirror_mode": {
    "name": "ipython",
    "version": 3
   },
   "file_extension": ".py",
   "mimetype": "text/x-python",
   "name": "python",
   "nbconvert_exporter": "python",
   "pygments_lexer": "ipython3",
   "version": "3.11.0"
  }
 },
 "nbformat": 4,
 "nbformat_minor": 5
}
